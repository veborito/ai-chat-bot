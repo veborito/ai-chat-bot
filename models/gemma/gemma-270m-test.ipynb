{
 "cells": [
  {
   "cell_type": "code",
   "execution_count": 3,
   "id": "8bb971cf",
   "metadata": {},
   "outputs": [
    {
     "name": "stderr",
     "output_type": "stream",
     "text": [
      "Note: Environment variable`HF_TOKEN` is set and is the current active token independently from the token you've just configured.\n"
     ]
    }
   ],
   "source": [
    "from transformers import AutoTokenizer, AutoModelForCausalLM\n",
    "from huggingface_hub import login\n",
    "import os\n",
    "from dotenv import load_dotenv\n",
    "\n",
    "load_dotenv()\n",
    "hf_token = os.getenv(\"HF_TOKEN\")\n",
    "login(token=hf_token)"
   ]
  },
  {
   "cell_type": "code",
   "execution_count": 5,
   "id": "d6ff9ba0",
   "metadata": {},
   "outputs": [],
   "source": [
    "model_name = \"google/gemma-3-270m-it\"\n",
    "tokenizer = AutoTokenizer.from_pretrained(model_name)\n",
    "model = AutoModelForCausalLM.from_pretrained(model_name, device_map=\"auto\")"
   ]
  },
  {
   "cell_type": "code",
   "execution_count": 6,
   "id": "a8c705f9",
   "metadata": {},
   "outputs": [],
   "source": [
    "input_text = \"donne moi un synonyme de penser\"\n",
    "inputs = tokenizer(input_text, return_tensors=\"pt\").to(model.device)"
   ]
  },
  {
   "cell_type": "code",
   "execution_count": 7,
   "id": "f3edd6b5",
   "metadata": {},
   "outputs": [
    {
     "name": "stderr",
     "output_type": "stream",
     "text": [
      "Setting `pad_token_id` to `eos_token_id`:1 for open-end generation.\n"
     ]
    },
    {
     "name": "stdout",
     "output_type": "stream",
     "text": [
      "donne moi un synonyme de penser à la façon d'avoir un \"parfum\" ou de ressentir un \"sens\" avec une personne, en particulier dans un contexte où la personne est déconnectée, isolée, ou peut-être anxieuse ?\n",
      "\n",
      "Voici quelques suggestions, en gardant à l'esprit que je ne suis pas un professionnel. Ces suggestions sont basées sur des idées générales et ne remplacent pas un avis médical ou un diagnostic professionnel.\n",
      "\n",
      "*   **Connexion:** La connexion émotionnelle, la relation, le sentiment de confiance, de sécurité, de connectivité.\n",
      "*   **Empathie:** Le sentiment d'appeler à la compréhension des autres.\n",
      "*   **Sentiment:** Un état de bien-être émotionnel, une joie, une tristesse, une colère, un sentiment de réconfort, de paix.\n",
      "*   **Sens:** Un état de bien-être émotionnel, une joie, une tristesse, une colère, un sentiment de récon\n"
     ]
    }
   ],
   "source": [
    "outputs = model.generate(**inputs, max_new_tokens=200)\n",
    "response = tokenizer.decode(outputs[0], skip_special_tokens=True)\n",
    "print(response)"
   ]
  },
  {
   "cell_type": "code",
   "execution_count": null,
   "id": "90ea74ec",
   "metadata": {},
   "outputs": [],
   "source": []
  },
  {
   "cell_type": "code",
   "execution_count": null,
   "id": "c3807d91",
   "metadata": {},
   "outputs": [],
   "source": []
  }
 ],
 "metadata": {
  "kernelspec": {
   "display_name": "ai-chat-bot",
   "language": "python",
   "name": "python3"
  },
  "language_info": {
   "codemirror_mode": {
    "name": "ipython",
    "version": 3
   },
   "file_extension": ".py",
   "mimetype": "text/x-python",
   "name": "python",
   "nbconvert_exporter": "python",
   "pygments_lexer": "ipython3",
   "version": "3.12.9"
  }
 },
 "nbformat": 4,
 "nbformat_minor": 5
}
